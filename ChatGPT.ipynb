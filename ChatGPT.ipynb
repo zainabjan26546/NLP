{
  "cells": [
    {
      "cell_type": "markdown",
      "metadata": {
        "id": "02f9dd0f"
      },
      "source": [
        "## scraping twitter data"
      ],
      "id": "02f9dd0f"
    },
    {
      "cell_type": "code",
      "execution_count": 1,
      "metadata": {
        "colab": {
          "base_uri": "https://localhost:8080/"
        },
        "id": "qjNIgsL-v72M",
        "outputId": "9c5954d2-f20f-47e9-d4d5-39ef797f1f5a"
      },
      "outputs": [
        {
          "output_type": "stream",
          "name": "stdout",
          "text": [
            "Looking in indexes: https://pypi.org/simple, https://us-python.pkg.dev/colab-wheels/public/simple/\n",
            "Collecting snscrape\n",
            "  Downloading snscrape-0.6.1.20230314-py3-none-any.whl (71 kB)\n",
            "\u001b[2K     \u001b[90m━━━━━━━━━━━━━━━━━━━━━━━━━━━━━━━━━━━━━━━\u001b[0m \u001b[32m71.6/71.6 KB\u001b[0m \u001b[31m635.1 kB/s\u001b[0m eta \u001b[36m0:00:00\u001b[0m\n",
            "\u001b[?25hRequirement already satisfied: requests[socks] in /usr/local/lib/python3.9/dist-packages (from snscrape) (2.27.1)\n",
            "Requirement already satisfied: beautifulsoup4 in /usr/local/lib/python3.9/dist-packages (from snscrape) (4.11.2)\n",
            "Requirement already satisfied: lxml in /usr/local/lib/python3.9/dist-packages (from snscrape) (4.9.2)\n",
            "Requirement already satisfied: filelock in /usr/local/lib/python3.9/dist-packages (from snscrape) (3.10.0)\n",
            "Requirement already satisfied: soupsieve>1.2 in /usr/local/lib/python3.9/dist-packages (from beautifulsoup4->snscrape) (2.4)\n",
            "Requirement already satisfied: urllib3<1.27,>=1.21.1 in /usr/local/lib/python3.9/dist-packages (from requests[socks]->snscrape) (1.26.15)\n",
            "Requirement already satisfied: charset-normalizer~=2.0.0 in /usr/local/lib/python3.9/dist-packages (from requests[socks]->snscrape) (2.0.12)\n",
            "Requirement already satisfied: certifi>=2017.4.17 in /usr/local/lib/python3.9/dist-packages (from requests[socks]->snscrape) (2022.12.7)\n",
            "Requirement already satisfied: idna<4,>=2.5 in /usr/local/lib/python3.9/dist-packages (from requests[socks]->snscrape) (3.4)\n",
            "Requirement already satisfied: PySocks!=1.5.7,>=1.5.6 in /usr/local/lib/python3.9/dist-packages (from requests[socks]->snscrape) (1.7.1)\n",
            "Installing collected packages: snscrape\n",
            "Successfully installed snscrape-0.6.1.20230314\n",
            "Looking in indexes: https://pypi.org/simple, https://us-python.pkg.dev/colab-wheels/public/simple/\n",
            "\u001b[31mERROR: Could not find a version that satisfies the requirement tweeter-preprocessor (from versions: none)\u001b[0m\u001b[31m\n",
            "\u001b[0m\u001b[31mERROR: No matching distribution found for tweeter-preprocessor\u001b[0m\u001b[31m\n",
            "\u001b[0m"
          ]
        }
      ],
      "source": [
        "!pip install snscrape\n",
        "!pip install tweeter-preprocessor"
      ],
      "id": "qjNIgsL-v72M"
    },
    {
      "cell_type": "code",
      "source": [
        "import snscrape.modules.twitter as sn\n",
        "import pandas as pd"
      ],
      "metadata": {
        "id": "8oP236dlGuOL"
      },
      "id": "8oP236dlGuOL",
      "execution_count": 2,
      "outputs": []
    },
    {
      "cell_type": "markdown",
      "metadata": {
        "id": "BmCKlRh-v3UW"
      },
      "source": [],
      "id": "BmCKlRh-v3UW"
    },
    {
      "cell_type": "code",
      "execution_count": null,
      "metadata": {
        "colab": {
          "base_uri": "https://localhost:8080/"
        },
        "id": "390da882",
        "outputId": "42ebb2af-a117-4849-9f67-ec704bfcd6f5"
      },
      "outputs": [
        {
          "output_type": "stream",
          "name": "stderr",
          "text": [
            "<ipython-input-3-2d113a0e42dd>:20: DeprecatedFeatureWarning: content is deprecated, use rawContent instead\n",
            "  tweets_list.append([tweet.date, tweet.id, tweet.content, tweet.user.username, tweet.mentionedUsers, tweet.user.location])\n"
          ]
        }
      ],
      "source": [
        "\n",
        "\n",
        "keywords=['ChatGpt']\n",
        "start_date= '2022-01-01'# YYYY-MM-DD\n",
        "end_date = '2023-01-26'#YYYY-MM-DD\n",
        "language = 'en'\n",
        "number_of_tweets = 10000\n",
        "\n",
        "tweets_list = []\n",
        "count = 0\n",
        "c = 0\n",
        "# Using TwitterSearchScraper to scrape data and append tweets to list\n",
        "for i,tweet in enumerate(sn.TwitterSearchScraper(f'{keywords} since:{start_date} until:{end_date} lang:{language} ').get_items()):\n",
        "    count += 1\n",
        "    if count == 10000:\n",
        "        c += 1\n",
        "        print(f\"JOEPIE:{c}\")\n",
        "        count = 0\n",
        "        \n",
        "    if i>=number_of_tweets:\n",
        "        break\n",
        "    tweets_list.append([tweet.date, tweet.id, tweet.content, tweet.user.username, tweet.mentionedUsers, tweet.user.location])\n",
        "    \n",
        "    \n",
        "# Creating a dataframe from the tweets list above \n",
        "tweets_df_2021 = pd.DataFrame(tweets_list, columns=['Datetime', 'Tweet Id', 'Text', 'Username', 'Mentioned', 'Location'])\n",
        "\n",
        "tweets_df_2021"
      ],
      "id": "390da882"
    },
    {
      "cell_type": "markdown",
      "metadata": {
        "id": "1ad49c20"
      },
      "source": [
        "## Preprocess data"
      ],
      "id": "1ad49c20"
    },
    {
      "cell_type": "code",
      "execution_count": null,
      "metadata": {
        "id": "a1f77ec8"
      },
      "outputs": [],
      "source": [
        "import re\n",
        "tweets_df_2021['hashtag'] = tweets_df_2021['Text'].apply(lambda x: re.findall(r\"#(\\w+)\", x))\n",
        "tweets_df_2021"
      ],
      "id": "a1f77ec8"
    },
    {
      "cell_type": "code",
      "execution_count": null,
      "metadata": {
        "id": "11dbdd6e"
      },
      "outputs": [],
      "source": [
        "!pip install tweet-preprocessor\n",
        "!pip install ekphrasis"
      ],
      "id": "11dbdd6e"
    },
    {
      "cell_type": "code",
      "execution_count": null,
      "metadata": {
        "id": "598fc9cc"
      },
      "outputs": [],
      "source": [
        "\n",
        "from ekphrasis.classes.segmenter import Segmenter"
      ],
      "id": "598fc9cc"
    },
    {
      "cell_type": "code",
      "execution_count": null,
      "metadata": {
        "id": "62e243af",
        "colab": {
          "base_uri": "https://localhost:8080/"
        },
        "outputId": "197ea23f-566e-4827-a895-fe418fb7ae35"
      },
      "outputs": [
        {
          "output_type": "stream",
          "name": "stderr",
          "text": [
            "[nltk_data] Downloading package wordnet to /root/nltk_data...\n",
            "[nltk_data]   Package wordnet is already up-to-date!\n",
            "[nltk_data] Downloading package stopwords to /root/nltk_data...\n",
            "[nltk_data]   Package stopwords is already up-to-date!\n",
            "[nltk_data] Downloading package omw-1.4 to /root/nltk_data...\n",
            "[nltk_data]   Package omw-1.4 is already up-to-date!\n"
          ]
        },
        {
          "output_type": "execute_result",
          "data": {
            "text/plain": [
              "True"
            ]
          },
          "metadata": {},
          "execution_count": 10
        }
      ],
      "source": [
        "import preprocessor as p\n",
        "import nltk\n",
        "from nltk import word_tokenize, FreqDist\n",
        "from nltk.corpus import stopwords\n",
        "from nltk.stem import WordNetLemmatizer\n",
        "nltk.download\n",
        "nltk.download('wordnet')\n",
        "nltk.download('stopwords')\n",
        "from nltk.tokenize import TweetTokenizer\n",
        "import nltk\n",
        "nltk.download('omw-1.4')"
      ],
      "id": "62e243af"
    },
    {
      "cell_type": "code",
      "execution_count": null,
      "metadata": {
        "id": "2aefa33d"
      },
      "outputs": [],
      "source": [
        "lemmatizer = nltk.stem.WordNetLemmatizer()\n",
        "w_tokenizer = TweetTokenizer()\n",
        "stop_words = set(stopwords.words('english'))"
      ],
      "id": "2aefa33d"
    },
    {
      "cell_type": "code",
      "execution_count": null,
      "metadata": {
        "id": "f1e13205",
        "colab": {
          "base_uri": "https://localhost:8080/"
        },
        "outputId": "6df30376-2463-4894-f458-135c40f6eb66"
      },
      "outputs": [
        {
          "output_type": "execute_result",
          "data": {
            "text/plain": [
              "0       [how, and, other, new, ai, tools, are, being, ...\n",
              "1       [seems, like, your, perspective, of, life, is,...\n",
              "2       [am, i, the, only, one, not, impressed, by, ch...\n",
              "3       [having, chat, write, conspiracy, theorys, abo...\n",
              "4       [the, said, im, not, putting, astrologers, out...\n",
              "                              ...                        \n",
              "9995    [clears, the, mba, test, for, a, top, business...\n",
              "9996    [the, metaverse, amp, opening, doors, for, bla...\n",
              "9997    [this, whole, business, reminds, me, of, the, ...\n",
              "9998    [the, tool, itself, who, owns, the, model, tha...\n",
              "9999    [unpopular, opinion, chat, is, worthless, unti...\n",
              "Name: Cleaned, Length: 10000, dtype: object"
            ]
          },
          "metadata": {},
          "execution_count": 12
        }
      ],
      "source": [
        "# preproces tweets 2021\n",
        "\n",
        "\n",
        "cleaned = []\n",
        "for tweet in tweets_df_2021['Text']:\n",
        "    tweet = p.clean(tweet) # removes URLs, Mentions, Reserved words (RT, FAV), and Emojis\n",
        "    tweet = tweet.lower() # lowecase\n",
        "    tweet = re.sub(r'[^\\w\\s]', '', (tweet)) # remove punctuation\n",
        "    tweet = re.sub('chatgpt', '', (tweet))\n",
        "    tweet = re.sub('gpt', '', (tweet))\n",
        "\n",
        "    tweet = lemmatizer.lemmatize(tweet) # lemmanize tweets\n",
        "    tweet = w_tokenizer.tokenize(tweet) # tokenize tweets\n",
        "    cleaned.append(tweet)\n",
        "\n",
        "tweets_df_2021['Cleaned'] = cleaned\n",
        "tweets_df_2021['Cleaned']"
      ],
      "id": "f1e13205"
    },
    {
      "cell_type": "code",
      "execution_count": null,
      "metadata": {
        "id": "24468348"
      },
      "outputs": [],
      "source": [
        "# remove stopwords"
      ],
      "id": "24468348"
    },
    {
      "cell_type": "code",
      "execution_count": null,
      "metadata": {
        "id": "cfd33aa6",
        "colab": {
          "base_uri": "https://localhost:8080/",
          "height": 1000
        },
        "outputId": "5cd0a399-c9da-4f42-999e-f7c0c5bb3485"
      },
      "outputs": [
        {
          "output_type": "execute_result",
          "data": {
            "text/plain": [
              "                      Datetime             Tweet Id  \\\n",
              "0    2023-01-25 23:59:59+00:00  1618398306576773123   \n",
              "1    2023-01-25 23:59:59+00:00  1618398305314308097   \n",
              "2    2023-01-25 23:59:11+00:00  1618398105417953280   \n",
              "3    2023-01-25 23:59:06+00:00  1618398085419524103   \n",
              "4    2023-01-25 23:58:55+00:00  1618398040020365313   \n",
              "...                        ...                  ...   \n",
              "9995 2023-01-25 12:36:40+00:00  1618226343912546305   \n",
              "9996 2023-01-25 12:36:36+00:00  1618226328666529792   \n",
              "9997 2023-01-25 12:36:33+00:00  1618226316318478336   \n",
              "9998 2023-01-25 12:36:32+00:00  1618226312552022028   \n",
              "9999 2023-01-25 12:36:30+00:00  1618226302254997504   \n",
              "\n",
              "                                                   Text         Username  \\\n",
              "0     How ChatGPT and other new AI tools are being u...           marigo   \n",
              "1     @dj_myleaX @jordanbpeterson @wef Seems like yo...   JamesSeabridge   \n",
              "2     @EvasTeslaSPlaid Am I the only one not impress...         patw3268   \n",
              "3     Having chat Gpt write conspiracy theorys about...  Patrick44640996   \n",
              "4     The Chatgpt said I’m not putting astrologers o...    MeganMistakes   \n",
              "...                                                 ...              ...   \n",
              "9995  #ChatGPT clears the MBA test for a top busines...      TechStoryin   \n",
              "9996  The Metaverse &amp; ChatGPT Opening Doors for ...        wmjackson   \n",
              "9997  This whole #ChatGPT business reminds me of The...    OkkiPepernoot   \n",
              "9998  2️⃣  THE TOOL ITSELF - Who owns the model that...   franklingraves   \n",
              "9999  Unpopular Opinion:  Chat GPT is worthless unti...        PappaHoss   \n",
              "\n",
              "                                              Mentioned  \\\n",
              "0                                                  None   \n",
              "1     [https://twitter.com/dj_myleaX, https://twitte...   \n",
              "2                 [https://twitter.com/EvasTeslaSPlaid]   \n",
              "3                                                  None   \n",
              "4                                                  None   \n",
              "...                                                 ...   \n",
              "9995                                               None   \n",
              "9996                                               None   \n",
              "9997                                               None   \n",
              "9998                                               None   \n",
              "9999                                               None   \n",
              "\n",
              "                           Location    hashtag  \\\n",
              "0                           Finland         []   \n",
              "1                       Seattle, WA         []   \n",
              "2                         Tampa, FL         []   \n",
              "3                                           []   \n",
              "4     Check out my links to find me         []   \n",
              "...                             ...        ...   \n",
              "9995                  United States  [ChatGPT]   \n",
              "9996                        Global          []   \n",
              "9997            Den Haag, Nederland  [ChatGPT]   \n",
              "9998                  Nashville, TN         []   \n",
              "9999                       Variable         []   \n",
              "\n",
              "                                                Cleaned  \n",
              "0     [new, ai, tools, used, lawyers, architects, co...  \n",
              "1     [seems, like, perspective, life, small, think,...  \n",
              "2     [one, impressed, chat, really, artificial, int...  \n",
              "3     [chat, write, conspiracy, theorys, jfk, extrem...  \n",
              "4     [said, im, putting, astrologers, outta, business]  \n",
              "...                                                 ...  \n",
              "9995         [clears, mba, test, top, business, school]  \n",
              "9996  [metaverse, amp, opening, doors, blacks, hispa...  \n",
              "9997  [whole, business, reminds, sorcerers, apprenti...  \n",
              "9998  [tool, owns, model, thats, built, data, sets, ...  \n",
              "9999  [unpopular, opinion, chat, worthless, accurate...  \n",
              "\n",
              "[10000 rows x 8 columns]"
            ],
            "text/html": [
              "\n",
              "  <div id=\"df-ae753a61-2140-42fd-ae89-d8d25f54f5ad\">\n",
              "    <div class=\"colab-df-container\">\n",
              "      <div>\n",
              "<style scoped>\n",
              "    .dataframe tbody tr th:only-of-type {\n",
              "        vertical-align: middle;\n",
              "    }\n",
              "\n",
              "    .dataframe tbody tr th {\n",
              "        vertical-align: top;\n",
              "    }\n",
              "\n",
              "    .dataframe thead th {\n",
              "        text-align: right;\n",
              "    }\n",
              "</style>\n",
              "<table border=\"1\" class=\"dataframe\">\n",
              "  <thead>\n",
              "    <tr style=\"text-align: right;\">\n",
              "      <th></th>\n",
              "      <th>Datetime</th>\n",
              "      <th>Tweet Id</th>\n",
              "      <th>Text</th>\n",
              "      <th>Username</th>\n",
              "      <th>Mentioned</th>\n",
              "      <th>Location</th>\n",
              "      <th>hashtag</th>\n",
              "      <th>Cleaned</th>\n",
              "    </tr>\n",
              "  </thead>\n",
              "  <tbody>\n",
              "    <tr>\n",
              "      <th>0</th>\n",
              "      <td>2023-01-25 23:59:59+00:00</td>\n",
              "      <td>1618398306576773123</td>\n",
              "      <td>How ChatGPT and other new AI tools are being u...</td>\n",
              "      <td>marigo</td>\n",
              "      <td>None</td>\n",
              "      <td>Finland</td>\n",
              "      <td>[]</td>\n",
              "      <td>[new, ai, tools, used, lawyers, architects, co...</td>\n",
              "    </tr>\n",
              "    <tr>\n",
              "      <th>1</th>\n",
              "      <td>2023-01-25 23:59:59+00:00</td>\n",
              "      <td>1618398305314308097</td>\n",
              "      <td>@dj_myleaX @jordanbpeterson @wef Seems like yo...</td>\n",
              "      <td>JamesSeabridge</td>\n",
              "      <td>[https://twitter.com/dj_myleaX, https://twitte...</td>\n",
              "      <td>Seattle, WA</td>\n",
              "      <td>[]</td>\n",
              "      <td>[seems, like, perspective, life, small, think,...</td>\n",
              "    </tr>\n",
              "    <tr>\n",
              "      <th>2</th>\n",
              "      <td>2023-01-25 23:59:11+00:00</td>\n",
              "      <td>1618398105417953280</td>\n",
              "      <td>@EvasTeslaSPlaid Am I the only one not impress...</td>\n",
              "      <td>patw3268</td>\n",
              "      <td>[https://twitter.com/EvasTeslaSPlaid]</td>\n",
              "      <td>Tampa, FL</td>\n",
              "      <td>[]</td>\n",
              "      <td>[one, impressed, chat, really, artificial, int...</td>\n",
              "    </tr>\n",
              "    <tr>\n",
              "      <th>3</th>\n",
              "      <td>2023-01-25 23:59:06+00:00</td>\n",
              "      <td>1618398085419524103</td>\n",
              "      <td>Having chat Gpt write conspiracy theorys about...</td>\n",
              "      <td>Patrick44640996</td>\n",
              "      <td>None</td>\n",
              "      <td></td>\n",
              "      <td>[]</td>\n",
              "      <td>[chat, write, conspiracy, theorys, jfk, extrem...</td>\n",
              "    </tr>\n",
              "    <tr>\n",
              "      <th>4</th>\n",
              "      <td>2023-01-25 23:58:55+00:00</td>\n",
              "      <td>1618398040020365313</td>\n",
              "      <td>The Chatgpt said I’m not putting astrologers o...</td>\n",
              "      <td>MeganMistakes</td>\n",
              "      <td>None</td>\n",
              "      <td>Check out my links to find me</td>\n",
              "      <td>[]</td>\n",
              "      <td>[said, im, putting, astrologers, outta, business]</td>\n",
              "    </tr>\n",
              "    <tr>\n",
              "      <th>...</th>\n",
              "      <td>...</td>\n",
              "      <td>...</td>\n",
              "      <td>...</td>\n",
              "      <td>...</td>\n",
              "      <td>...</td>\n",
              "      <td>...</td>\n",
              "      <td>...</td>\n",
              "      <td>...</td>\n",
              "    </tr>\n",
              "    <tr>\n",
              "      <th>9995</th>\n",
              "      <td>2023-01-25 12:36:40+00:00</td>\n",
              "      <td>1618226343912546305</td>\n",
              "      <td>#ChatGPT clears the MBA test for a top busines...</td>\n",
              "      <td>TechStoryin</td>\n",
              "      <td>None</td>\n",
              "      <td>United States</td>\n",
              "      <td>[ChatGPT]</td>\n",
              "      <td>[clears, mba, test, top, business, school]</td>\n",
              "    </tr>\n",
              "    <tr>\n",
              "      <th>9996</th>\n",
              "      <td>2023-01-25 12:36:36+00:00</td>\n",
              "      <td>1618226328666529792</td>\n",
              "      <td>The Metaverse &amp;amp; ChatGPT Opening Doors for ...</td>\n",
              "      <td>wmjackson</td>\n",
              "      <td>None</td>\n",
              "      <td>Global</td>\n",
              "      <td>[]</td>\n",
              "      <td>[metaverse, amp, opening, doors, blacks, hispa...</td>\n",
              "    </tr>\n",
              "    <tr>\n",
              "      <th>9997</th>\n",
              "      <td>2023-01-25 12:36:33+00:00</td>\n",
              "      <td>1618226316318478336</td>\n",
              "      <td>This whole #ChatGPT business reminds me of The...</td>\n",
              "      <td>OkkiPepernoot</td>\n",
              "      <td>None</td>\n",
              "      <td>Den Haag, Nederland</td>\n",
              "      <td>[ChatGPT]</td>\n",
              "      <td>[whole, business, reminds, sorcerers, apprenti...</td>\n",
              "    </tr>\n",
              "    <tr>\n",
              "      <th>9998</th>\n",
              "      <td>2023-01-25 12:36:32+00:00</td>\n",
              "      <td>1618226312552022028</td>\n",
              "      <td>2️⃣  THE TOOL ITSELF - Who owns the model that...</td>\n",
              "      <td>franklingraves</td>\n",
              "      <td>None</td>\n",
              "      <td>Nashville, TN</td>\n",
              "      <td>[]</td>\n",
              "      <td>[tool, owns, model, thats, built, data, sets, ...</td>\n",
              "    </tr>\n",
              "    <tr>\n",
              "      <th>9999</th>\n",
              "      <td>2023-01-25 12:36:30+00:00</td>\n",
              "      <td>1618226302254997504</td>\n",
              "      <td>Unpopular Opinion:  Chat GPT is worthless unti...</td>\n",
              "      <td>PappaHoss</td>\n",
              "      <td>None</td>\n",
              "      <td>Variable</td>\n",
              "      <td>[]</td>\n",
              "      <td>[unpopular, opinion, chat, worthless, accurate...</td>\n",
              "    </tr>\n",
              "  </tbody>\n",
              "</table>\n",
              "<p>10000 rows × 8 columns</p>\n",
              "</div>\n",
              "      <button class=\"colab-df-convert\" onclick=\"convertToInteractive('df-ae753a61-2140-42fd-ae89-d8d25f54f5ad')\"\n",
              "              title=\"Convert this dataframe to an interactive table.\"\n",
              "              style=\"display:none;\">\n",
              "        \n",
              "  <svg xmlns=\"http://www.w3.org/2000/svg\" height=\"24px\"viewBox=\"0 0 24 24\"\n",
              "       width=\"24px\">\n",
              "    <path d=\"M0 0h24v24H0V0z\" fill=\"none\"/>\n",
              "    <path d=\"M18.56 5.44l.94 2.06.94-2.06 2.06-.94-2.06-.94-.94-2.06-.94 2.06-2.06.94zm-11 1L8.5 8.5l.94-2.06 2.06-.94-2.06-.94L8.5 2.5l-.94 2.06-2.06.94zm10 10l.94 2.06.94-2.06 2.06-.94-2.06-.94-.94-2.06-.94 2.06-2.06.94z\"/><path d=\"M17.41 7.96l-1.37-1.37c-.4-.4-.92-.59-1.43-.59-.52 0-1.04.2-1.43.59L10.3 9.45l-7.72 7.72c-.78.78-.78 2.05 0 2.83L4 21.41c.39.39.9.59 1.41.59.51 0 1.02-.2 1.41-.59l7.78-7.78 2.81-2.81c.8-.78.8-2.07 0-2.86zM5.41 20L4 18.59l7.72-7.72 1.47 1.35L5.41 20z\"/>\n",
              "  </svg>\n",
              "      </button>\n",
              "      \n",
              "  <style>\n",
              "    .colab-df-container {\n",
              "      display:flex;\n",
              "      flex-wrap:wrap;\n",
              "      gap: 12px;\n",
              "    }\n",
              "\n",
              "    .colab-df-convert {\n",
              "      background-color: #E8F0FE;\n",
              "      border: none;\n",
              "      border-radius: 50%;\n",
              "      cursor: pointer;\n",
              "      display: none;\n",
              "      fill: #1967D2;\n",
              "      height: 32px;\n",
              "      padding: 0 0 0 0;\n",
              "      width: 32px;\n",
              "    }\n",
              "\n",
              "    .colab-df-convert:hover {\n",
              "      background-color: #E2EBFA;\n",
              "      box-shadow: 0px 1px 2px rgba(60, 64, 67, 0.3), 0px 1px 3px 1px rgba(60, 64, 67, 0.15);\n",
              "      fill: #174EA6;\n",
              "    }\n",
              "\n",
              "    [theme=dark] .colab-df-convert {\n",
              "      background-color: #3B4455;\n",
              "      fill: #D2E3FC;\n",
              "    }\n",
              "\n",
              "    [theme=dark] .colab-df-convert:hover {\n",
              "      background-color: #434B5C;\n",
              "      box-shadow: 0px 1px 3px 1px rgba(0, 0, 0, 0.15);\n",
              "      filter: drop-shadow(0px 1px 2px rgba(0, 0, 0, 0.3));\n",
              "      fill: #FFFFFF;\n",
              "    }\n",
              "  </style>\n",
              "\n",
              "      <script>\n",
              "        const buttonEl =\n",
              "          document.querySelector('#df-ae753a61-2140-42fd-ae89-d8d25f54f5ad button.colab-df-convert');\n",
              "        buttonEl.style.display =\n",
              "          google.colab.kernel.accessAllowed ? 'block' : 'none';\n",
              "\n",
              "        async function convertToInteractive(key) {\n",
              "          const element = document.querySelector('#df-ae753a61-2140-42fd-ae89-d8d25f54f5ad');\n",
              "          const dataTable =\n",
              "            await google.colab.kernel.invokeFunction('convertToInteractive',\n",
              "                                                     [key], {});\n",
              "          if (!dataTable) return;\n",
              "\n",
              "          const docLinkHtml = 'Like what you see? Visit the ' +\n",
              "            '<a target=\"_blank\" href=https://colab.research.google.com/notebooks/data_table.ipynb>data table notebook</a>'\n",
              "            + ' to learn more about interactive tables.';\n",
              "          element.innerHTML = '';\n",
              "          dataTable['output_type'] = 'display_data';\n",
              "          await google.colab.output.renderOutput(dataTable, element);\n",
              "          const docLink = document.createElement('div');\n",
              "          docLink.innerHTML = docLinkHtml;\n",
              "          element.appendChild(docLink);\n",
              "        }\n",
              "      </script>\n",
              "    </div>\n",
              "  </div>\n",
              "  "
            ]
          },
          "metadata": {},
          "execution_count": 14
        }
      ],
      "source": [
        "tweets_df_2021['Cleaned'] = tweets_df_2021['Cleaned'].apply(lambda x: [item for item in x if item not in stop_words])\n",
        "tweets_df_2021"
      ],
      "id": "cfd33aa6"
    },
    {
      "cell_type": "markdown",
      "metadata": {
        "id": "025202c4"
      },
      "source": [
        "# wordcloud "
      ],
      "id": "025202c4"
    },
    {
      "cell_type": "code",
      "execution_count": null,
      "metadata": {
        "id": "22ed3bea"
      },
      "outputs": [],
      "source": [
        "from wordcloud import WordCloud\n",
        "import matplotlib.pyplot as plt\n",
        "from PIL import Image"
      ],
      "id": "22ed3bea"
    },
    {
      "cell_type": "code",
      "execution_count": null,
      "metadata": {
        "id": "ac43ec0a"
      },
      "outputs": [],
      "source": [
        "# list to string\n",
        "tweets_df_2021['Cleaned_string'] = [' '.join(map(str, l)) for l in tweets_df_2021['Cleaned']]\n"
      ],
      "id": "ac43ec0a"
    },
    {
      "cell_type": "code",
      "execution_count": null,
      "metadata": {
        "id": "fed8c2c5"
      },
      "outputs": [],
      "source": [
        "# function to create worldcloud\n",
        "def create_wordcloud(text):\n",
        "    wc = WordCloud(background_color=\"white\",\n",
        "                  max_words=3000,\n",
        "                  repeat=True)\n",
        "    wc.generate(str(text))\n",
        "    wc.to_file(\"wc.png\")\n",
        "    print(\"Word Cloud Saved Successfully\")\n",
        "    path=\"wc.png\"\n",
        "    display(Image.open(path))"
      ],
      "id": "fed8c2c5"
    },
    {
      "cell_type": "code",
      "execution_count": null,
      "metadata": {
        "id": "a34e1035",
        "colab": {
          "base_uri": "https://localhost:8080/",
          "height": 234
        },
        "outputId": "8e845459-4090-4d13-ddda-a36b577e7943"
      },
      "outputs": [
        {
          "output_type": "stream",
          "name": "stdout",
          "text": [
            "Word Cloud Saved Successfully\n"
          ]
        },
        {
          "output_type": "display_data",
          "data": {
            "text/plain": [
              "<PIL.PngImagePlugin.PngImageFile image mode=RGB size=400x200 at 0x7F6FC53F2BB0>"
            ],
            "image/png": "[encoded data removed]"
          },
          "metadata": {}
        }
      ],
      "source": [
        "# create wordcloud from cleaned tweets 2021\n",
        "create_wordcloud(tweets_df_2021[\"Cleaned_string\"].values)"
      ],
      "id": "a34e1035"
    },
    {
      "cell_type": "markdown",
      "metadata": {
        "id": "81111f36"
      },
      "source": [
        "## Sentiment analysis"
      ],
      "id": "81111f36"
    },
    {
      "cell_type": "code",
      "execution_count": null,
      "metadata": {
        "id": "ff03b885",
        "colab": {
          "base_uri": "https://localhost:8080/"
        },
        "outputId": "b027dbcd-8fb1-4600-e1bc-ae164eb26d5b"
      },
      "outputs": [
        {
          "output_type": "stream",
          "name": "stderr",
          "text": [
            "[nltk_data] Downloading package vader_lexicon to /root/nltk_data...\n",
            "[nltk_data]   Package vader_lexicon is already up-to-date!\n"
          ]
        },
        {
          "output_type": "execute_result",
          "data": {
            "text/plain": [
              "True"
            ]
          },
          "metadata": {},
          "execution_count": 19
        }
      ],
      "source": [
        "from nltk.sentiment.vader import SentimentIntensityAnalyzer\n",
        "import nltk\n",
        "nltk.download('vader_lexicon')"
      ],
      "id": "ff03b885"
    },
    {
      "cell_type": "code",
      "execution_count": null,
      "metadata": {
        "id": "a1c3b24b",
        "colab": {
          "base_uri": "https://localhost:8080/",
          "height": 1000
        },
        "outputId": "4c4eb1d0-6cc8-45e8-b8a0-39ccddf22a3c"
      },
      "outputs": [
        {
          "output_type": "execute_result",
          "data": {
            "text/plain": [
              "                      Datetime             Tweet Id  \\\n",
              "0    2023-01-25 23:59:59+00:00  1618398306576773123   \n",
              "1    2023-01-25 23:59:59+00:00  1618398305314308097   \n",
              "2    2023-01-25 23:59:11+00:00  1618398105417953280   \n",
              "3    2023-01-25 23:59:06+00:00  1618398085419524103   \n",
              "4    2023-01-25 23:58:55+00:00  1618398040020365313   \n",
              "...                        ...                  ...   \n",
              "9995 2023-01-25 12:36:40+00:00  1618226343912546305   \n",
              "9996 2023-01-25 12:36:36+00:00  1618226328666529792   \n",
              "9997 2023-01-25 12:36:33+00:00  1618226316318478336   \n",
              "9998 2023-01-25 12:36:32+00:00  1618226312552022028   \n",
              "9999 2023-01-25 12:36:30+00:00  1618226302254997504   \n",
              "\n",
              "                                                   Text         Username  \\\n",
              "0     How ChatGPT and other new AI tools are being u...           marigo   \n",
              "1     @dj_myleaX @jordanbpeterson @wef Seems like yo...   JamesSeabridge   \n",
              "2     @EvasTeslaSPlaid Am I the only one not impress...         patw3268   \n",
              "3     Having chat Gpt write conspiracy theorys about...  Patrick44640996   \n",
              "4     The Chatgpt said I’m not putting astrologers o...    MeganMistakes   \n",
              "...                                                 ...              ...   \n",
              "9995  #ChatGPT clears the MBA test for a top busines...      TechStoryin   \n",
              "9996  The Metaverse &amp; ChatGPT Opening Doors for ...        wmjackson   \n",
              "9997  This whole #ChatGPT business reminds me of The...    OkkiPepernoot   \n",
              "9998  2️⃣  THE TOOL ITSELF - Who owns the model that...   franklingraves   \n",
              "9999  Unpopular Opinion:  Chat GPT is worthless unti...        PappaHoss   \n",
              "\n",
              "                                              Mentioned  \\\n",
              "0                                                  None   \n",
              "1     [https://twitter.com/dj_myleaX, https://twitte...   \n",
              "2                 [https://twitter.com/EvasTeslaSPlaid]   \n",
              "3                                                  None   \n",
              "4                                                  None   \n",
              "...                                                 ...   \n",
              "9995                                               None   \n",
              "9996                                               None   \n",
              "9997                                               None   \n",
              "9998                                               None   \n",
              "9999                                               None   \n",
              "\n",
              "                           Location    hashtag  \\\n",
              "0                           Finland         []   \n",
              "1                       Seattle, WA         []   \n",
              "2                         Tampa, FL         []   \n",
              "3                                           []   \n",
              "4     Check out my links to find me         []   \n",
              "...                             ...        ...   \n",
              "9995                  United States  [ChatGPT]   \n",
              "9996                        Global          []   \n",
              "9997            Den Haag, Nederland  [ChatGPT]   \n",
              "9998                  Nashville, TN         []   \n",
              "9999                       Variable         []   \n",
              "\n",
              "                                                Cleaned  \\\n",
              "0     [new, ai, tools, used, lawyers, architects, co...   \n",
              "1     [seems, like, perspective, life, small, think,...   \n",
              "2     [one, impressed, chat, really, artificial, int...   \n",
              "3     [chat, write, conspiracy, theorys, jfk, extrem...   \n",
              "4     [said, im, putting, astrologers, outta, business]   \n",
              "...                                                 ...   \n",
              "9995         [clears, mba, test, top, business, school]   \n",
              "9996  [metaverse, amp, opening, doors, blacks, hispa...   \n",
              "9997  [whole, business, reminds, sorcerers, apprenti...   \n",
              "9998  [tool, owns, model, thats, built, data, sets, ...   \n",
              "9999  [unpopular, opinion, chat, worthless, accurate...   \n",
              "\n",
              "                                         Cleaned_string  Neg_score  Neu_score  \\\n",
              "0     new ai tools used lawyers architects coders ab...      0.000      1.000   \n",
              "1     seems like perspective life small think consis...      0.000      0.762   \n",
              "2     one impressed chat really artificial intellige...      0.000      0.578   \n",
              "3     chat write conspiracy theorys jfk extremely en...      0.293      0.431   \n",
              "4            said im putting astrologers outta business      0.000      1.000   \n",
              "...                                                 ...        ...        ...   \n",
              "9995                clears mba test top business school      0.000      0.563   \n",
              "9996  metaverse amp opening doors blacks hispanics c...      0.000      1.000   \n",
              "9997  whole business reminds sorcerers apprentice kn...      0.000      0.769   \n",
              "9998  tool owns model thats built data sets software...      0.000      1.000   \n",
              "9999  unpopular opinion chat worthless accurately gi...      0.266      0.734   \n",
              "\n",
              "      Pos_score  Compound_score     Label  \n",
              "0         0.000          0.0000   Neutral  \n",
              "1         0.238          0.3612  Positive  \n",
              "2         0.422          0.8307  Positive  \n",
              "3         0.275         -0.0534  Negative  \n",
              "4         0.000          0.0000   Neutral  \n",
              "...         ...             ...       ...  \n",
              "9995      0.437          0.2732  Positive  \n",
              "9996      0.000          0.0000   Neutral  \n",
              "9997      0.231          0.2732  Positive  \n",
              "9998      0.000          0.0000   Neutral  \n",
              "9999      0.000         -0.4404  Negative  \n",
              "\n",
              "[10000 rows x 14 columns]"
            ],
            "text/html": [
              "\n",
              "  <div id=\"df-d896ef32-4008-489c-9ba2-e5732a3d0654\">\n",
              "    <div class=\"colab-df-container\">\n",
              "      <div>\n",
              "<style scoped>\n",
              "    .dataframe tbody tr th:only-of-type {\n",
              "        vertical-align: middle;\n",
              "    }\n",
              "\n",
              "    .dataframe tbody tr th {\n",
              "        vertical-align: top;\n",
              "    }\n",
              "\n",
              "    .dataframe thead th {\n",
              "        text-align: right;\n",
              "    }\n",
              "</style>\n",
              "<table border=\"1\" class=\"dataframe\">\n",
              "  <thead>\n",
              "    <tr style=\"text-align: right;\">\n",
              "      <th></th>\n",
              "      <th>Datetime</th>\n",
              "      <th>Tweet Id</th>\n",
              "      <th>Text</th>\n",
              "      <th>Username</th>\n",
              "      <th>Mentioned</th>\n",
              "      <th>Location</th>\n",
              "      <th>hashtag</th>\n",
              "      <th>Cleaned</th>\n",
              "      <th>Cleaned_string</th>\n",
              "      <th>Neg_score</th>\n",
              "      <th>Neu_score</th>\n",
              "      <th>Pos_score</th>\n",
              "      <th>Compound_score</th>\n",
              "      <th>Label</th>\n",
              "    </tr>\n",
              "  </thead>\n",
              "  <tbody>\n",
              "    <tr>\n",
              "      <th>0</th>\n",
              "      <td>2023-01-25 23:59:59+00:00</td>\n",
              "      <td>1618398306576773123</td>\n",
              "      <td>How ChatGPT and other new AI tools are being u...</td>\n",
              "      <td>marigo</td>\n",
              "      <td>None</td>\n",
              "      <td>Finland</td>\n",
              "      <td>[]</td>\n",
              "      <td>[new, ai, tools, used, lawyers, architects, co...</td>\n",
              "      <td>new ai tools used lawyers architects coders ab...</td>\n",
              "      <td>0.000</td>\n",
              "      <td>1.000</td>\n",
              "      <td>0.000</td>\n",
              "      <td>0.0000</td>\n",
              "      <td>Neutral</td>\n",
              "    </tr>\n",
              "    <tr>\n",
              "      <th>1</th>\n",
              "      <td>2023-01-25 23:59:59+00:00</td>\n",
              "      <td>1618398305314308097</td>\n",
              "      <td>@dj_myleaX @jordanbpeterson @wef Seems like yo...</td>\n",
              "      <td>JamesSeabridge</td>\n",
              "      <td>[https://twitter.com/dj_myleaX, https://twitte...</td>\n",
              "      <td>Seattle, WA</td>\n",
              "      <td>[]</td>\n",
              "      <td>[seems, like, perspective, life, small, think,...</td>\n",
              "      <td>seems like perspective life small think consis...</td>\n",
              "      <td>0.000</td>\n",
              "      <td>0.762</td>\n",
              "      <td>0.238</td>\n",
              "      <td>0.3612</td>\n",
              "      <td>Positive</td>\n",
              "    </tr>\n",
              "    <tr>\n",
              "      <th>2</th>\n",
              "      <td>2023-01-25 23:59:11+00:00</td>\n",
              "      <td>1618398105417953280</td>\n",
              "      <td>@EvasTeslaSPlaid Am I the only one not impress...</td>\n",
              "      <td>patw3268</td>\n",
              "      <td>[https://twitter.com/EvasTeslaSPlaid]</td>\n",
              "      <td>Tampa, FL</td>\n",
              "      <td>[]</td>\n",
              "      <td>[one, impressed, chat, really, artificial, int...</td>\n",
              "      <td>one impressed chat really artificial intellige...</td>\n",
              "      <td>0.000</td>\n",
              "      <td>0.578</td>\n",
              "      <td>0.422</td>\n",
              "      <td>0.8307</td>\n",
              "      <td>Positive</td>\n",
              "    </tr>\n",
              "    <tr>\n",
              "      <th>3</th>\n",
              "      <td>2023-01-25 23:59:06+00:00</td>\n",
              "      <td>1618398085419524103</td>\n",
              "      <td>Having chat Gpt write conspiracy theorys about...</td>\n",
              "      <td>Patrick44640996</td>\n",
              "      <td>None</td>\n",
              "      <td></td>\n",
              "      <td>[]</td>\n",
              "      <td>[chat, write, conspiracy, theorys, jfk, extrem...</td>\n",
              "      <td>chat write conspiracy theorys jfk extremely en...</td>\n",
              "      <td>0.293</td>\n",
              "      <td>0.431</td>\n",
              "      <td>0.275</td>\n",
              "      <td>-0.0534</td>\n",
              "      <td>Negative</td>\n",
              "    </tr>\n",
              "    <tr>\n",
              "      <th>4</th>\n",
              "      <td>2023-01-25 23:58:55+00:00</td>\n",
              "      <td>1618398040020365313</td>\n",
              "      <td>The Chatgpt said I’m not putting astrologers o...</td>\n",
              "      <td>MeganMistakes</td>\n",
              "      <td>None</td>\n",
              "      <td>Check out my links to find me</td>\n",
              "      <td>[]</td>\n",
              "      <td>[said, im, putting, astrologers, outta, business]</td>\n",
              "      <td>said im putting astrologers outta business</td>\n",
              "      <td>0.000</td>\n",
              "      <td>1.000</td>\n",
              "      <td>0.000</td>\n",
              "      <td>0.0000</td>\n",
              "      <td>Neutral</td>\n",
              "    </tr>\n",
              "    <tr>\n",
              "      <th>...</th>\n",
              "      <td>...</td>\n",
              "      <td>...</td>\n",
              "      <td>...</td>\n",
              "      <td>...</td>\n",
              "      <td>...</td>\n",
              "      <td>...</td>\n",
              "      <td>...</td>\n",
              "      <td>...</td>\n",
              "      <td>...</td>\n",
              "      <td>...</td>\n",
              "      <td>...</td>\n",
              "      <td>...</td>\n",
              "      <td>...</td>\n",
              "      <td>...</td>\n",
              "    </tr>\n",
              "    <tr>\n",
              "      <th>9995</th>\n",
              "      <td>2023-01-25 12:36:40+00:00</td>\n",
              "      <td>1618226343912546305</td>\n",
              "      <td>#ChatGPT clears the MBA test for a top busines...</td>\n",
              "      <td>TechStoryin</td>\n",
              "      <td>None</td>\n",
              "      <td>United States</td>\n",
              "      <td>[ChatGPT]</td>\n",
              "      <td>[clears, mba, test, top, business, school]</td>\n",
              "      <td>clears mba test top business school</td>\n",
              "      <td>0.000</td>\n",
              "      <td>0.563</td>\n",
              "      <td>0.437</td>\n",
              "      <td>0.2732</td>\n",
              "      <td>Positive</td>\n",
              "    </tr>\n",
              "    <tr>\n",
              "      <th>9996</th>\n",
              "      <td>2023-01-25 12:36:36+00:00</td>\n",
              "      <td>1618226328666529792</td>\n",
              "      <td>The Metaverse &amp;amp; ChatGPT Opening Doors for ...</td>\n",
              "      <td>wmjackson</td>\n",
              "      <td>None</td>\n",
              "      <td>Global</td>\n",
              "      <td>[]</td>\n",
              "      <td>[metaverse, amp, opening, doors, blacks, hispa...</td>\n",
              "      <td>metaverse amp opening doors blacks hispanics c...</td>\n",
              "      <td>0.000</td>\n",
              "      <td>1.000</td>\n",
              "      <td>0.000</td>\n",
              "      <td>0.0000</td>\n",
              "      <td>Neutral</td>\n",
              "    </tr>\n",
              "    <tr>\n",
              "      <th>9997</th>\n",
              "      <td>2023-01-25 12:36:33+00:00</td>\n",
              "      <td>1618226316318478336</td>\n",
              "      <td>This whole #ChatGPT business reminds me of The...</td>\n",
              "      <td>OkkiPepernoot</td>\n",
              "      <td>None</td>\n",
              "      <td>Den Haag, Nederland</td>\n",
              "      <td>[ChatGPT]</td>\n",
              "      <td>[whole, business, reminds, sorcerers, apprenti...</td>\n",
              "      <td>whole business reminds sorcerers apprentice kn...</td>\n",
              "      <td>0.000</td>\n",
              "      <td>0.769</td>\n",
              "      <td>0.231</td>\n",
              "      <td>0.2732</td>\n",
              "      <td>Positive</td>\n",
              "    </tr>\n",
              "    <tr>\n",
              "      <th>9998</th>\n",
              "      <td>2023-01-25 12:36:32+00:00</td>\n",
              "      <td>1618226312552022028</td>\n",
              "      <td>2️⃣  THE TOOL ITSELF - Who owns the model that...</td>\n",
              "      <td>franklingraves</td>\n",
              "      <td>None</td>\n",
              "      <td>Nashville, TN</td>\n",
              "      <td>[]</td>\n",
              "      <td>[tool, owns, model, thats, built, data, sets, ...</td>\n",
              "      <td>tool owns model thats built data sets software...</td>\n",
              "      <td>0.000</td>\n",
              "      <td>1.000</td>\n",
              "      <td>0.000</td>\n",
              "      <td>0.0000</td>\n",
              "      <td>Neutral</td>\n",
              "    </tr>\n",
              "    <tr>\n",
              "      <th>9999</th>\n",
              "      <td>2023-01-25 12:36:30+00:00</td>\n",
              "      <td>1618226302254997504</td>\n",
              "      <td>Unpopular Opinion:  Chat GPT is worthless unti...</td>\n",
              "      <td>PappaHoss</td>\n",
              "      <td>None</td>\n",
              "      <td>Variable</td>\n",
              "      <td>[]</td>\n",
              "      <td>[unpopular, opinion, chat, worthless, accurate...</td>\n",
              "      <td>unpopular opinion chat worthless accurately gi...</td>\n",
              "      <td>0.266</td>\n",
              "      <td>0.734</td>\n",
              "      <td>0.000</td>\n",
              "      <td>-0.4404</td>\n",
              "      <td>Negative</td>\n",
              "    </tr>\n",
              "  </tbody>\n",
              "</table>\n",
              "<p>10000 rows × 14 columns</p>\n",
              "</div>\n",
              "      <button class=\"colab-df-convert\" onclick=\"convertToInteractive('df-d896ef32-4008-489c-9ba2-e5732a3d0654')\"\n",
              "              title=\"Convert this dataframe to an interactive table.\"\n",
              "              style=\"display:none;\">\n",
              "        \n",
              "  <svg xmlns=\"http://www.w3.org/2000/svg\" height=\"24px\"viewBox=\"0 0 24 24\"\n",
              "       width=\"24px\">\n",
              "    <path d=\"M0 0h24v24H0V0z\" fill=\"none\"/>\n",
              "    <path d=\"M18.56 5.44l.94 2.06.94-2.06 2.06-.94-2.06-.94-.94-2.06-.94 2.06-2.06.94zm-11 1L8.5 8.5l.94-2.06 2.06-.94-2.06-.94L8.5 2.5l-.94 2.06-2.06.94zm10 10l.94 2.06.94-2.06 2.06-.94-2.06-.94-.94-2.06-.94 2.06-2.06.94z\"/><path d=\"M17.41 7.96l-1.37-1.37c-.4-.4-.92-.59-1.43-.59-.52 0-1.04.2-1.43.59L10.3 9.45l-7.72 7.72c-.78.78-.78 2.05 0 2.83L4 21.41c.39.39.9.59 1.41.59.51 0 1.02-.2 1.41-.59l7.78-7.78 2.81-2.81c.8-.78.8-2.07 0-2.86zM5.41 20L4 18.59l7.72-7.72 1.47 1.35L5.41 20z\"/>\n",
              "  </svg>\n",
              "      </button>\n",
              "      \n",
              "  <style>\n",
              "    .colab-df-container {\n",
              "      display:flex;\n",
              "      flex-wrap:wrap;\n",
              "      gap: 12px;\n",
              "    }\n",
              "\n",
              "    .colab-df-convert {\n",
              "      background-color: #E8F0FE;\n",
              "      border: none;\n",
              "      border-radius: 50%;\n",
              "      cursor: pointer;\n",
              "      display: none;\n",
              "      fill: #1967D2;\n",
              "      height: 32px;\n",
              "      padding: 0 0 0 0;\n",
              "      width: 32px;\n",
              "    }\n",
              "\n",
              "    .colab-df-convert:hover {\n",
              "      background-color: #E2EBFA;\n",
              "      box-shadow: 0px 1px 2px rgba(60, 64, 67, 0.3), 0px 1px 3px 1px rgba(60, 64, 67, 0.15);\n",
              "      fill: #174EA6;\n",
              "    }\n",
              "\n",
              "    [theme=dark] .colab-df-convert {\n",
              "      background-color: #3B4455;\n",
              "      fill: #D2E3FC;\n",
              "    }\n",
              "\n",
              "    [theme=dark] .colab-df-convert:hover {\n",
              "      background-color: #434B5C;\n",
              "      box-shadow: 0px 1px 3px 1px rgba(0, 0, 0, 0.15);\n",
              "      filter: drop-shadow(0px 1px 2px rgba(0, 0, 0, 0.3));\n",
              "      fill: #FFFFFF;\n",
              "    }\n",
              "  </style>\n",
              "\n",
              "      <script>\n",
              "        const buttonEl =\n",
              "          document.querySelector('#df-d896ef32-4008-489c-9ba2-e5732a3d0654 button.colab-df-convert');\n",
              "        buttonEl.style.display =\n",
              "          google.colab.kernel.accessAllowed ? 'block' : 'none';\n",
              "\n",
              "        async function convertToInteractive(key) {\n",
              "          const element = document.querySelector('#df-d896ef32-4008-489c-9ba2-e5732a3d0654');\n",
              "          const dataTable =\n",
              "            await google.colab.kernel.invokeFunction('convertToInteractive',\n",
              "                                                     [key], {});\n",
              "          if (!dataTable) return;\n",
              "\n",
              "          const docLinkHtml = 'Like what you see? Visit the ' +\n",
              "            '<a target=\"_blank\" href=https://colab.research.google.com/notebooks/data_table.ipynb>data table notebook</a>'\n",
              "            + ' to learn more about interactive tables.';\n",
              "          element.innerHTML = '';\n",
              "          dataTable['output_type'] = 'display_data';\n",
              "          await google.colab.output.renderOutput(dataTable, element);\n",
              "          const docLink = document.createElement('div');\n",
              "          docLink.innerHTML = docLinkHtml;\n",
              "          element.appendChild(docLink);\n",
              "        }\n",
              "      </script>\n",
              "    </div>\n",
              "  </div>\n",
              "  "
            ]
          },
          "metadata": {},
          "execution_count": 20
        }
      ],
      "source": [
        "# 2021\n",
        "negative_list = []\n",
        "neutral_list =[]\n",
        "positive_list =[]\n",
        "compound_list =[]\n",
        "labels = []\n",
        "for i in tweets_df_2021['Cleaned_string']:\n",
        "    # calculate sentiment score\n",
        "    score = SentimentIntensityAnalyzer().polarity_scores(i)\n",
        "    negative_list.append(score['neg'])\n",
        "    neutral_list.append(score['neu'])\n",
        "    positive_list.append(score['pos'])\n",
        "    compound_list.append(score['compound'])\n",
        "    neg = score['neg']\n",
        "    pos = score['pos']\n",
        "\n",
        "    if pos>neg:\n",
        "        labels.append('Positive')\n",
        "    if pos<neg:\n",
        "        labels.append('Negative')\n",
        "    if pos==neg:\n",
        "        labels.append('Neutral')\n",
        "    \n",
        "tweets_df_2021['Neg_score'] = negative_list\n",
        "tweets_df_2021['Neu_score'] = neutral_list\n",
        "tweets_df_2021['Pos_score'] = positive_list\n",
        "tweets_df_2021['Compound_score'] = compound_list\n",
        "tweets_df_2021['Label'] = labels\n",
        "    \n",
        "tweets_df_2021"
      ],
      "id": "a1c3b24b"
    },
    {
      "cell_type": "code",
      "execution_count": null,
      "metadata": {
        "id": "952bfac4",
        "colab": {
          "base_uri": "https://localhost:8080/",
          "height": 285
        },
        "outputId": "4d5d6c5b-3b84-4d18-a2d8-fcc6171eacce"
      },
      "outputs": [
        {
          "output_type": "display_data",
          "data": {
            "text/plain": [
              "<Figure size 432x288 with 1 Axes>"
            ],
            "image/png": "[encoded data removed]"
          },
          "metadata": {}
        }
      ],
      "source": [
        "# generate bar plot\n",
        "import seaborn as sns\n",
        "sns.set(style=\"darkgrid\")\n",
        "\n",
        "ax = sns.countplot(x=\"Label\", data=tweets_df_2021)"
      ],
      "id": "952bfac4"
    },
    {
      "cell_type": "markdown",
      "metadata": {
        "id": "6bdba62c"
      },
      "source": [
        "## Ngrams"
      ],
      "id": "6bdba62c"
    },
    {
      "cell_type": "code",
      "execution_count": null,
      "metadata": {
        "id": "27c726a4"
      },
      "outputs": [],
      "source": [
        "from collections import defaultdict"
      ],
      "id": "27c726a4"
    },
    {
      "cell_type": "code",
      "execution_count": null,
      "metadata": {
        "id": "e22d6cd3"
      },
      "outputs": [],
      "source": [
        "def generate_N_grams(text,ngram=1):\n",
        "    words=[word for word in text.split(\" \") if word not in set(stopwords.words('english'))]  \n",
        "    temp=zip(*[words[i:] for i in range(0,ngram)])\n",
        "    ans=[' '.join(ngram) for ngram in temp]\n",
        "    return ans"
      ],
      "id": "e22d6cd3"
    },
    {
      "cell_type": "code",
      "execution_count": null,
      "metadata": {
        "id": "5c78b0cf"
      },
      "outputs": [],
      "source": [
        "def plot_bar_graph(pd1,pd2,color,label,n):\n",
        "    plt.figure(1,figsize=(16,4))\n",
        "    plt.bar(pd1,pd2, color =color,\n",
        "            width = 0.4)\n",
        "    plt.xticks(fontsize=8)\n",
        "\n",
        "    plt.xlabel(label)\n",
        "    plt.ylabel(\"Count\")\n",
        "    plt.title(\"Top 5 \"+label+\" \"+n+\" ANALYSIS\")\n",
        "    plt.show()"
      ],
      "id": "5c78b0cf"
    },
    {
      "cell_type": "code",
      "execution_count": null,
      "metadata": {
        "id": "6aba050b"
      },
      "outputs": [],
      "source": [
        "def creating_n_grams(df,n,Type):\n",
        "    positiveValues=defaultdict(int)\n",
        "    negativeValues=defaultdict(int)\n",
        "    neutralValues=defaultdict(int)\n",
        "    for text in df[df.Label==\"Positive\"].Cleaned_string:\n",
        "        for word in generate_N_grams(text,n):\n",
        "            positiveValues[word]+=1\n",
        "            \n",
        "    for text in df[df.Label==\"Neutral\"].Cleaned_string:\n",
        "        for word in generate_N_grams(text,n):\n",
        "            neutralValues[word]+=1\n",
        "\n",
        "    for text in df[df.Label==\"Negative\"].Cleaned_string:\n",
        "        for word in generate_N_grams(text,n):\n",
        "            negativeValues[word]+=1\n",
        "            \n",
        "    df_positive=pd.DataFrame(sorted(positiveValues.items(),key=lambda x:x[1],reverse=True))\n",
        "    df_negative=pd.DataFrame(sorted(negativeValues.items(),key=lambda x:x[1],reverse=True))\n",
        "    df_neutral=pd.DataFrame(sorted(neutralValues.items(),key=lambda x:x[1],reverse=True))\n",
        "    \n",
        "    pd1=df_positive[0][:5]\n",
        "    pd2=df_positive[1][:5]\n",
        "    ned1=df_negative[0][:5]\n",
        "    ned2=df_negative[1][:5]\n",
        "    nud1=df_neutral[0][:5]\n",
        "    nud2=df_neutral[1][:5]\n",
        "    \n",
        "    plot_bar_graph(pd1,pd2,\"green\",\"positive words\",Type)\n",
        "    plot_bar_graph(ned1,ned2,\"red\",\"Negative words\",Type)\n",
        "    plot_bar_graph(nud1,nud2,\"yellow\",\"Neutral words\",Type)   "
      ],
      "id": "6aba050b"
    },
    {
      "cell_type": "markdown",
      "metadata": {
        "id": "a250a386"
      },
      "source": [
        "## Year 2021"
      ],
      "id": "a250a386"
    },
    {
      "cell_type": "markdown",
      "metadata": {
        "id": "2240eff8"
      },
      "source": [
        "###  BIGRAMS"
      ],
      "id": "2240eff8"
    },
    {
      "cell_type": "code",
      "execution_count": null,
      "metadata": {
        "id": "d41147bb",
        "colab": {
          "base_uri": "https://localhost:8080/",
          "height": 783
        },
        "outputId": "53b39be4-0eb2-4d03-b0c4-bbcccef8855c"
      },
      "outputs": [
        {
          "output_type": "display_data",
          "data": {
            "text/plain": [
              "<Figure size 1152x288 with 1 Axes>"
            ],
            "image/png": "[encoded data removed]"
          },
          "metadata": {}
        },
        {
          "output_type": "display_data",
          "data": {
            "text/plain": [
              "<Figure size 1152x288 with 1 Axes>"
            ],
            "image/png": "[encoded data removed]"
          },
          "metadata": {}
        },
        {
          "output_type": "display_data",
          "data": {
            "text/plain": [
              "<Figure size 1152x288 with 1 Axes>"
            ],
            "image/png": "[encoded data removed]"
          },
          "metadata": {}
        }
      ],
      "source": [
        "creating_n_grams(tweets_df_2021,2,\"BIGRAM\")"
      ],
      "id": "d41147bb"
    },
    {
      "cell_type": "markdown",
      "metadata": {
        "id": "f76261a3"
      },
      "source": [
        "### Trigrams"
      ],
      "id": "f76261a3"
    },
    {
      "cell_type": "code",
      "execution_count": null,
      "metadata": {
        "id": "493322c2",
        "colab": {
          "base_uri": "https://localhost:8080/",
          "height": 787
        },
        "outputId": "b5453906-fda3-4dee-cb0c-2a92c24d5060"
      },
      "outputs": [
        {
          "output_type": "display_data",
          "data": {
            "text/plain": [
              "<Figure size 1152x288 with 1 Axes>"
            ],
            "image/png": "[encoded data removed]"
          },
          "metadata": {}
        },
        {
          "output_type": "display_data",
          "data": {
            "text/plain": [
              "<Figure size 1152x288 with 1 Axes>"
            ],
            "image/png": "[encoded data removed]"
          },
          "metadata": {}
        },
        {
          "output_type": "display_data",
          "data": {
            "text/plain": [
              "<Figure size 1152x288 with 1 Axes>"
            ],
            "image/png": "[encoded data removed]"
          },
          "metadata": {}
        }
      ],
      "source": [
        "creating_n_grams(tweets_df_2021,3,\"TRIGRAMS\")"
      ],
      "id": "493322c2"
    },
    {
      "cell_type": "markdown",
      "metadata": {
        "id": "cb39df27"
      },
      "source": [
        "## Emotion analysis"
      ],
      "id": "cb39df27"
    },
    {
      "cell_type": "code",
      "source": [
        "!pip uninstall  emoji"
      ],
      "metadata": {
        "colab": {
          "base_uri": "https://localhost:8080/"
        },
        "id": "B68ACUekKELd",
        "outputId": "5f2db8cb-4193-445d-a8d1-e31d29b2e7ad"
      },
      "id": "B68ACUekKELd",
      "execution_count": null,
      "outputs": [
        {
          "output_type": "stream",
          "name": "stdout",
          "text": [
            "Found existing installation: emoji 1.7.0\n",
            "Uninstalling emoji-1.7.0:\n",
            "  Would remove:\n",
            "    /usr/local/lib/python3.8/dist-packages/emoji-1.7.0.dist-info/*\n",
            "    /usr/local/lib/python3.8/dist-packages/emoji/*\n",
            "Proceed (Y/n)? y\n",
            "  Successfully uninstalled emoji-1.7.0\n"
          ]
        }
      ]
    },
    {
      "cell_type": "code",
      "execution_count": null,
      "metadata": {
        "id": "af21e26e",
        "colab": {
          "base_uri": "https://localhost:8080/"
        },
        "outputId": "0cde3666-0ac8-4801-a081-fd3cc76d49da"
      },
      "outputs": [
        {
          "output_type": "stream",
          "name": "stdout",
          "text": [
            "Looking in indexes: https://pypi.org/simple, https://us-python.pkg.dev/colab-wheels/public/simple/\n",
            "Collecting emoji==1.7.0\n",
            "  Using cached emoji-1.7.0-py3-none-any.whl\n",
            "Installing collected packages: emoji\n",
            "Successfully installed emoji-1.7.0\n",
            "Looking in indexes: https://pypi.org/simple, https://us-python.pkg.dev/colab-wheels/public/simple/\n",
            "Requirement already satisfied: text2emotion in /usr/local/lib/python3.8/dist-packages (0.0.5)\n",
            "Requirement already satisfied: emoji>=0.6.0 in /usr/local/lib/python3.8/dist-packages (from text2emotion) (1.7.0)\n",
            "Requirement already satisfied: nltk in /usr/local/lib/python3.8/dist-packages (from text2emotion) (3.7)\n",
            "Requirement already satisfied: joblib in /usr/local/lib/python3.8/dist-packages (from nltk->text2emotion) (1.2.0)\n",
            "Requirement already satisfied: tqdm in /usr/local/lib/python3.8/dist-packages (from nltk->text2emotion) (4.64.1)\n",
            "Requirement already satisfied: regex>=2021.8.3 in /usr/local/lib/python3.8/dist-packages (from nltk->text2emotion) (2022.6.2)\n",
            "Requirement already satisfied: click in /usr/local/lib/python3.8/dist-packages (from nltk->text2emotion) (7.1.2)\n"
          ]
        },
        {
          "output_type": "stream",
          "name": "stderr",
          "text": [
            "[nltk_data] Downloading package stopwords to /root/nltk_data...\n",
            "[nltk_data]   Package stopwords is already up-to-date!\n",
            "[nltk_data] Downloading package punkt to /root/nltk_data...\n",
            "[nltk_data]   Package punkt is already up-to-date!\n",
            "[nltk_data] Downloading package wordnet to /root/nltk_data...\n",
            "[nltk_data]   Package wordnet is already up-to-date!\n"
          ]
        }
      ],
      "source": [
        "!pip install emoji==1.7.0\n",
        "!pip install text2emotion\n",
        "\n",
        "import text2emotion as te\n"
      ],
      "id": "af21e26e"
    },
    {
      "cell_type": "markdown",
      "metadata": {
        "id": "7a65778d"
      },
      "source": [
        "### 2021"
      ],
      "id": "7a65778d"
    },
    {
      "cell_type": "code",
      "execution_count": null,
      "metadata": {
        "id": "21b0f8ee",
        "scrolled": false,
        "colab": {
          "base_uri": "https://localhost:8080/",
          "height": 1000
        },
        "outputId": "133870f3-74c7-421d-9037-445ce7e168e6"
      },
      "outputs": [
        {
          "output_type": "execute_result",
          "data": {
            "text/plain": [
              "                      Datetime             Tweet Id  \\\n",
              "0    2023-01-25 23:59:59+00:00  1618398306576773123   \n",
              "1    2023-01-25 23:59:59+00:00  1618398305314308097   \n",
              "2    2023-01-25 23:59:11+00:00  1618398105417953280   \n",
              "3    2023-01-25 23:59:06+00:00  1618398085419524103   \n",
              "4    2023-01-25 23:58:55+00:00  1618398040020365313   \n",
              "...                        ...                  ...   \n",
              "9995 2023-01-25 12:36:40+00:00  1618226343912546305   \n",
              "9996 2023-01-25 12:36:36+00:00  1618226328666529792   \n",
              "9997 2023-01-25 12:36:33+00:00  1618226316318478336   \n",
              "9998 2023-01-25 12:36:32+00:00  1618226312552022028   \n",
              "9999 2023-01-25 12:36:30+00:00  1618226302254997504   \n",
              "\n",
              "                                                   Text         Username  \\\n",
              "0     How ChatGPT and other new AI tools are being u...           marigo   \n",
              "1     @dj_myleaX @jordanbpeterson @wef Seems like yo...   JamesSeabridge   \n",
              "2     @EvasTeslaSPlaid Am I the only one not impress...         patw3268   \n",
              "3     Having chat Gpt write conspiracy theorys about...  Patrick44640996   \n",
              "4     The Chatgpt said I’m not putting astrologers o...    MeganMistakes   \n",
              "...                                                 ...              ...   \n",
              "9995  #ChatGPT clears the MBA test for a top busines...      TechStoryin   \n",
              "9996  The Metaverse &amp; ChatGPT Opening Doors for ...        wmjackson   \n",
              "9997  This whole #ChatGPT business reminds me of The...    OkkiPepernoot   \n",
              "9998  2️⃣  THE TOOL ITSELF - Who owns the model that...   franklingraves   \n",
              "9999  Unpopular Opinion:  Chat GPT is worthless unti...        PappaHoss   \n",
              "\n",
              "                                              Mentioned  \\\n",
              "0                                                  None   \n",
              "1     [https://twitter.com/dj_myleaX, https://twitte...   \n",
              "2                 [https://twitter.com/EvasTeslaSPlaid]   \n",
              "3                                                  None   \n",
              "4                                                  None   \n",
              "...                                                 ...   \n",
              "9995                                               None   \n",
              "9996                                               None   \n",
              "9997                                               None   \n",
              "9998                                               None   \n",
              "9999                                               None   \n",
              "\n",
              "                           Location    hashtag  \\\n",
              "0                           Finland         []   \n",
              "1                       Seattle, WA         []   \n",
              "2                         Tampa, FL         []   \n",
              "3                                           []   \n",
              "4     Check out my links to find me         []   \n",
              "...                             ...        ...   \n",
              "9995                  United States  [ChatGPT]   \n",
              "9996                        Global          []   \n",
              "9997            Den Haag, Nederland  [ChatGPT]   \n",
              "9998                  Nashville, TN         []   \n",
              "9999                       Variable         []   \n",
              "\n",
              "                                                Cleaned  \\\n",
              "0     [new, ai, tools, used, lawyers, architects, co...   \n",
              "1     [seems, like, perspective, life, small, think,...   \n",
              "2     [one, impressed, chat, really, artificial, int...   \n",
              "3     [chat, write, conspiracy, theorys, jfk, extrem...   \n",
              "4     [said, im, putting, astrologers, outta, business]   \n",
              "...                                                 ...   \n",
              "9995         [clears, mba, test, top, business, school]   \n",
              "9996  [metaverse, amp, opening, doors, blacks, hispa...   \n",
              "9997  [whole, business, reminds, sorcerers, apprenti...   \n",
              "9998  [tool, owns, model, thats, built, data, sets, ...   \n",
              "9999  [unpopular, opinion, chat, worthless, accurate...   \n",
              "\n",
              "                                         Cleaned_string  Neg_score  Neu_score  \\\n",
              "0     new ai tools used lawyers architects coders ab...      0.000      1.000   \n",
              "1     seems like perspective life small think consis...      0.000      0.762   \n",
              "2     one impressed chat really artificial intellige...      0.000      0.578   \n",
              "3     chat write conspiracy theorys jfk extremely en...      0.293      0.431   \n",
              "4            said im putting astrologers outta business      0.000      1.000   \n",
              "...                                                 ...        ...        ...   \n",
              "9995                clears mba test top business school      0.000      0.563   \n",
              "9996  metaverse amp opening doors blacks hispanics c...      0.000      1.000   \n",
              "9997  whole business reminds sorcerers apprentice kn...      0.000      0.769   \n",
              "9998  tool owns model thats built data sets software...      0.000      1.000   \n",
              "9999  unpopular opinion chat worthless accurately gi...      0.266      0.734   \n",
              "\n",
              "      Pos_score  Compound_score     Label  Happy_score  Angry_score  \\\n",
              "0         0.000          0.0000   Neutral         0.00          0.0   \n",
              "1         0.238          0.3612  Positive         0.00          0.0   \n",
              "2         0.422          0.8307  Positive         0.50          0.0   \n",
              "3         0.275         -0.0534  Negative         0.00          0.0   \n",
              "4         0.000          0.0000   Neutral         0.00          0.0   \n",
              "...         ...             ...       ...          ...          ...   \n",
              "9995      0.437          0.2732  Positive         0.00          0.0   \n",
              "9996      0.000          0.0000   Neutral         0.00          0.0   \n",
              "9997      0.231          0.2732  Positive         0.00          0.0   \n",
              "9998      0.000          0.0000   Neutral         0.00          0.0   \n",
              "9999      0.000         -0.4404  Negative         0.33          0.0   \n",
              "\n",
              "      Surprise_score  Sas_score  Fear_score  \n",
              "0               0.00       0.00        1.00  \n",
              "1               0.00       0.00        1.00  \n",
              "2               0.50       0.00        0.00  \n",
              "3               0.00       0.00        0.00  \n",
              "4               0.00       0.50        0.50  \n",
              "...              ...        ...         ...  \n",
              "9995            0.33       0.33        0.33  \n",
              "9996            0.00       0.00        1.00  \n",
              "9997            0.00       0.00        1.00  \n",
              "9998            0.00       0.00        1.00  \n",
              "9999            0.00       0.33        0.33  \n",
              "\n",
              "[10000 rows x 19 columns]"
            ],
            "text/html": [
              "\n",
              "  <div id=\"df-9a573c56-6f51-40f5-9999-952fb521bc36\">\n",
              "    <div class=\"colab-df-container\">\n",
              "      <div>\n",
              "<style scoped>\n",
              "    .dataframe tbody tr th:only-of-type {\n",
              "        vertical-align: middle;\n",
              "    }\n",
              "\n",
              "    .dataframe tbody tr th {\n",
              "        vertical-align: top;\n",
              "    }\n",
              "\n",
              "    .dataframe thead th {\n",
              "        text-align: right;\n",
              "    }\n",
              "</style>\n",
              "<table border=\"1\" class=\"dataframe\">\n",
              "  <thead>\n",
              "    <tr style=\"text-align: right;\">\n",
              "      <th></th>\n",
              "      <th>Datetime</th>\n",
              "      <th>Tweet Id</th>\n",
              "      <th>Text</th>\n",
              "      <th>Username</th>\n",
              "      <th>Mentioned</th>\n",
              "      <th>Location</th>\n",
              "      <th>hashtag</th>\n",
              "      <th>Cleaned</th>\n",
              "      <th>Cleaned_string</th>\n",
              "      <th>Neg_score</th>\n",
              "      <th>Neu_score</th>\n",
              "      <th>Pos_score</th>\n",
              "      <th>Compound_score</th>\n",
              "      <th>Label</th>\n",
              "      <th>Happy_score</th>\n",
              "      <th>Angry_score</th>\n",
              "      <th>Surprise_score</th>\n",
              "      <th>Sas_score</th>\n",
              "      <th>Fear_score</th>\n",
              "    </tr>\n",
              "  </thead>\n",
              "  <tbody>\n",
              "    <tr>\n",
              "      <th>0</th>\n",
              "      <td>2023-01-25 23:59:59+00:00</td>\n",
              "      <td>1618398306576773123</td>\n",
              "      <td>How ChatGPT and other new AI tools are being u...</td>\n",
              "      <td>marigo</td>\n",
              "      <td>None</td>\n",
              "      <td>Finland</td>\n",
              "      <td>[]</td>\n",
              "      <td>[new, ai, tools, used, lawyers, architects, co...</td>\n",
              "      <td>new ai tools used lawyers architects coders ab...</td>\n",
              "      <td>0.000</td>\n",
              "      <td>1.000</td>\n",
              "      <td>0.000</td>\n",
              "      <td>0.0000</td>\n",
              "      <td>Neutral</td>\n",
              "      <td>0.00</td>\n",
              "      <td>0.0</td>\n",
              "      <td>0.00</td>\n",
              "      <td>0.00</td>\n",
              "      <td>1.00</td>\n",
              "    </tr>\n",
              "    <tr>\n",
              "      <th>1</th>\n",
              "      <td>2023-01-25 23:59:59+00:00</td>\n",
              "      <td>1618398305314308097</td>\n",
              "      <td>@dj_myleaX @jordanbpeterson @wef Seems like yo...</td>\n",
              "      <td>JamesSeabridge</td>\n",
              "      <td>[https://twitter.com/dj_myleaX, https://twitte...</td>\n",
              "      <td>Seattle, WA</td>\n",
              "      <td>[]</td>\n",
              "      <td>[seems, like, perspective, life, small, think,...</td>\n",
              "      <td>seems like perspective life small think consis...</td>\n",
              "      <td>0.000</td>\n",
              "      <td>0.762</td>\n",
              "      <td>0.238</td>\n",
              "      <td>0.3612</td>\n",
              "      <td>Positive</td>\n",
              "      <td>0.00</td>\n",
              "      <td>0.0</td>\n",
              "      <td>0.00</td>\n",
              "      <td>0.00</td>\n",
              "      <td>1.00</td>\n",
              "    </tr>\n",
              "    <tr>\n",
              "      <th>2</th>\n",
              "      <td>2023-01-25 23:59:11+00:00</td>\n",
              "      <td>1618398105417953280</td>\n",
              "      <td>@EvasTeslaSPlaid Am I the only one not impress...</td>\n",
              "      <td>patw3268</td>\n",
              "      <td>[https://twitter.com/EvasTeslaSPlaid]</td>\n",
              "      <td>Tampa, FL</td>\n",
              "      <td>[]</td>\n",
              "      <td>[one, impressed, chat, really, artificial, int...</td>\n",
              "      <td>one impressed chat really artificial intellige...</td>\n",
              "      <td>0.000</td>\n",
              "      <td>0.578</td>\n",
              "      <td>0.422</td>\n",
              "      <td>0.8307</td>\n",
              "      <td>Positive</td>\n",
              "      <td>0.50</td>\n",
              "      <td>0.0</td>\n",
              "      <td>0.50</td>\n",
              "      <td>0.00</td>\n",
              "      <td>0.00</td>\n",
              "    </tr>\n",
              "    <tr>\n",
              "      <th>3</th>\n",
              "      <td>2023-01-25 23:59:06+00:00</td>\n",
              "      <td>1618398085419524103</td>\n",
              "      <td>Having chat Gpt write conspiracy theorys about...</td>\n",
              "      <td>Patrick44640996</td>\n",
              "      <td>None</td>\n",
              "      <td></td>\n",
              "      <td>[]</td>\n",
              "      <td>[chat, write, conspiracy, theorys, jfk, extrem...</td>\n",
              "      <td>chat write conspiracy theorys jfk extremely en...</td>\n",
              "      <td>0.293</td>\n",
              "      <td>0.431</td>\n",
              "      <td>0.275</td>\n",
              "      <td>-0.0534</td>\n",
              "      <td>Negative</td>\n",
              "      <td>0.00</td>\n",
              "      <td>0.0</td>\n",
              "      <td>0.00</td>\n",
              "      <td>0.00</td>\n",
              "      <td>0.00</td>\n",
              "    </tr>\n",
              "    <tr>\n",
              "      <th>4</th>\n",
              "      <td>2023-01-25 23:58:55+00:00</td>\n",
              "      <td>1618398040020365313</td>\n",
              "      <td>The Chatgpt said I’m not putting astrologers o...</td>\n",
              "      <td>MeganMistakes</td>\n",
              "      <td>None</td>\n",
              "      <td>Check out my links to find me</td>\n",
              "      <td>[]</td>\n",
              "      <td>[said, im, putting, astrologers, outta, business]</td>\n",
              "      <td>said im putting astrologers outta business</td>\n",
              "      <td>0.000</td>\n",
              "      <td>1.000</td>\n",
              "      <td>0.000</td>\n",
              "      <td>0.0000</td>\n",
              "      <td>Neutral</td>\n",
              "      <td>0.00</td>\n",
              "      <td>0.0</td>\n",
              "      <td>0.00</td>\n",
              "      <td>0.50</td>\n",
              "      <td>0.50</td>\n",
              "    </tr>\n",
              "    <tr>\n",
              "      <th>...</th>\n",
              "      <td>...</td>\n",
              "      <td>...</td>\n",
              "      <td>...</td>\n",
              "      <td>...</td>\n",
              "      <td>...</td>\n",
              "      <td>...</td>\n",
              "      <td>...</td>\n",
              "      <td>...</td>\n",
              "      <td>...</td>\n",
              "      <td>...</td>\n",
              "      <td>...</td>\n",
              "      <td>...</td>\n",
              "      <td>...</td>\n",
              "      <td>...</td>\n",
              "      <td>...</td>\n",
              "      <td>...</td>\n",
              "      <td>...</td>\n",
              "      <td>...</td>\n",
              "      <td>...</td>\n",
              "    </tr>\n",
              "    <tr>\n",
              "      <th>9995</th>\n",
              "      <td>2023-01-25 12:36:40+00:00</td>\n",
              "      <td>1618226343912546305</td>\n",
              "      <td>#ChatGPT clears the MBA test for a top busines...</td>\n",
              "      <td>TechStoryin</td>\n",
              "      <td>None</td>\n",
              "      <td>United States</td>\n",
              "      <td>[ChatGPT]</td>\n",
              "      <td>[clears, mba, test, top, business, school]</td>\n",
              "      <td>clears mba test top business school</td>\n",
              "      <td>0.000</td>\n",
              "      <td>0.563</td>\n",
              "      <td>0.437</td>\n",
              "      <td>0.2732</td>\n",
              "      <td>Positive</td>\n",
              "      <td>0.00</td>\n",
              "      <td>0.0</td>\n",
              "      <td>0.33</td>\n",
              "      <td>0.33</td>\n",
              "      <td>0.33</td>\n",
              "    </tr>\n",
              "    <tr>\n",
              "      <th>9996</th>\n",
              "      <td>2023-01-25 12:36:36+00:00</td>\n",
              "      <td>1618226328666529792</td>\n",
              "      <td>The Metaverse &amp;amp; ChatGPT Opening Doors for ...</td>\n",
              "      <td>wmjackson</td>\n",
              "      <td>None</td>\n",
              "      <td>Global</td>\n",
              "      <td>[]</td>\n",
              "      <td>[metaverse, amp, opening, doors, blacks, hispa...</td>\n",
              "      <td>metaverse amp opening doors blacks hispanics c...</td>\n",
              "      <td>0.000</td>\n",
              "      <td>1.000</td>\n",
              "      <td>0.000</td>\n",
              "      <td>0.0000</td>\n",
              "      <td>Neutral</td>\n",
              "      <td>0.00</td>\n",
              "      <td>0.0</td>\n",
              "      <td>0.00</td>\n",
              "      <td>0.00</td>\n",
              "      <td>1.00</td>\n",
              "    </tr>\n",
              "    <tr>\n",
              "      <th>9997</th>\n",
              "      <td>2023-01-25 12:36:33+00:00</td>\n",
              "      <td>1618226316318478336</td>\n",
              "      <td>This whole #ChatGPT business reminds me of The...</td>\n",
              "      <td>OkkiPepernoot</td>\n",
              "      <td>None</td>\n",
              "      <td>Den Haag, Nederland</td>\n",
              "      <td>[ChatGPT]</td>\n",
              "      <td>[whole, business, reminds, sorcerers, apprenti...</td>\n",
              "      <td>whole business reminds sorcerers apprentice kn...</td>\n",
              "      <td>0.000</td>\n",
              "      <td>0.769</td>\n",
              "      <td>0.231</td>\n",
              "      <td>0.2732</td>\n",
              "      <td>Positive</td>\n",
              "      <td>0.00</td>\n",
              "      <td>0.0</td>\n",
              "      <td>0.00</td>\n",
              "      <td>0.00</td>\n",
              "      <td>1.00</td>\n",
              "    </tr>\n",
              "    <tr>\n",
              "      <th>9998</th>\n",
              "      <td>2023-01-25 12:36:32+00:00</td>\n",
              "      <td>1618226312552022028</td>\n",
              "      <td>2️⃣  THE TOOL ITSELF - Who owns the model that...</td>\n",
              "      <td>franklingraves</td>\n",
              "      <td>None</td>\n",
              "      <td>Nashville, TN</td>\n",
              "      <td>[]</td>\n",
              "      <td>[tool, owns, model, thats, built, data, sets, ...</td>\n",
              "      <td>tool owns model thats built data sets software...</td>\n",
              "      <td>0.000</td>\n",
              "      <td>1.000</td>\n",
              "      <td>0.000</td>\n",
              "      <td>0.0000</td>\n",
              "      <td>Neutral</td>\n",
              "      <td>0.00</td>\n",
              "      <td>0.0</td>\n",
              "      <td>0.00</td>\n",
              "      <td>0.00</td>\n",
              "      <td>1.00</td>\n",
              "    </tr>\n",
              "    <tr>\n",
              "      <th>9999</th>\n",
              "      <td>2023-01-25 12:36:30+00:00</td>\n",
              "      <td>1618226302254997504</td>\n",
              "      <td>Unpopular Opinion:  Chat GPT is worthless unti...</td>\n",
              "      <td>PappaHoss</td>\n",
              "      <td>None</td>\n",
              "      <td>Variable</td>\n",
              "      <td>[]</td>\n",
              "      <td>[unpopular, opinion, chat, worthless, accurate...</td>\n",
              "      <td>unpopular opinion chat worthless accurately gi...</td>\n",
              "      <td>0.266</td>\n",
              "      <td>0.734</td>\n",
              "      <td>0.000</td>\n",
              "      <td>-0.4404</td>\n",
              "      <td>Negative</td>\n",
              "      <td>0.33</td>\n",
              "      <td>0.0</td>\n",
              "      <td>0.00</td>\n",
              "      <td>0.33</td>\n",
              "      <td>0.33</td>\n",
              "    </tr>\n",
              "  </tbody>\n",
              "</table>\n",
              "<p>10000 rows × 19 columns</p>\n",
              "</div>\n",
              "      <button class=\"colab-df-convert\" onclick=\"convertToInteractive('df-9a573c56-6f51-40f5-9999-952fb521bc36')\"\n",
              "              title=\"Convert this dataframe to an interactive table.\"\n",
              "              style=\"display:none;\">\n",
              "        \n",
              "  <svg xmlns=\"http://www.w3.org/2000/svg\" height=\"24px\"viewBox=\"0 0 24 24\"\n",
              "       width=\"24px\">\n",
              "    <path d=\"M0 0h24v24H0V0z\" fill=\"none\"/>\n",
              "    <path d=\"M18.56 5.44l.94 2.06.94-2.06 2.06-.94-2.06-.94-.94-2.06-.94 2.06-2.06.94zm-11 1L8.5 8.5l.94-2.06 2.06-.94-2.06-.94L8.5 2.5l-.94 2.06-2.06.94zm10 10l.94 2.06.94-2.06 2.06-.94-2.06-.94-.94-2.06-.94 2.06-2.06.94z\"/><path d=\"M17.41 7.96l-1.37-1.37c-.4-.4-.92-.59-1.43-.59-.52 0-1.04.2-1.43.59L10.3 9.45l-7.72 7.72c-.78.78-.78 2.05 0 2.83L4 21.41c.39.39.9.59 1.41.59.51 0 1.02-.2 1.41-.59l7.78-7.78 2.81-2.81c.8-.78.8-2.07 0-2.86zM5.41 20L4 18.59l7.72-7.72 1.47 1.35L5.41 20z\"/>\n",
              "  </svg>\n",
              "      </button>\n",
              "      \n",
              "  <style>\n",
              "    .colab-df-container {\n",
              "      display:flex;\n",
              "      flex-wrap:wrap;\n",
              "      gap: 12px;\n",
              "    }\n",
              "\n",
              "    .colab-df-convert {\n",
              "      background-color: #E8F0FE;\n",
              "      border: none;\n",
              "      border-radius: 50%;\n",
              "      cursor: pointer;\n",
              "      display: none;\n",
              "      fill: #1967D2;\n",
              "      height: 32px;\n",
              "      padding: 0 0 0 0;\n",
              "      width: 32px;\n",
              "    }\n",
              "\n",
              "    .colab-df-convert:hover {\n",
              "      background-color: #E2EBFA;\n",
              "      box-shadow: 0px 1px 2px rgba(60, 64, 67, 0.3), 0px 1px 3px 1px rgba(60, 64, 67, 0.15);\n",
              "      fill: #174EA6;\n",
              "    }\n",
              "\n",
              "    [theme=dark] .colab-df-convert {\n",
              "      background-color: #3B4455;\n",
              "      fill: #D2E3FC;\n",
              "    }\n",
              "\n",
              "    [theme=dark] .colab-df-convert:hover {\n",
              "      background-color: #434B5C;\n",
              "      box-shadow: 0px 1px 3px 1px rgba(0, 0, 0, 0.15);\n",
              "      filter: drop-shadow(0px 1px 2px rgba(0, 0, 0, 0.3));\n",
              "      fill: #FFFFFF;\n",
              "    }\n",
              "  </style>\n",
              "\n",
              "      <script>\n",
              "        const buttonEl =\n",
              "          document.querySelector('#df-9a573c56-6f51-40f5-9999-952fb521bc36 button.colab-df-convert');\n",
              "        buttonEl.style.display =\n",
              "          google.colab.kernel.accessAllowed ? 'block' : 'none';\n",
              "\n",
              "        async function convertToInteractive(key) {\n",
              "          const element = document.querySelector('#df-9a573c56-6f51-40f5-9999-952fb521bc36');\n",
              "          const dataTable =\n",
              "            await google.colab.kernel.invokeFunction('convertToInteractive',\n",
              "                                                     [key], {});\n",
              "          if (!dataTable) return;\n",
              "\n",
              "          const docLinkHtml = 'Like what you see? Visit the ' +\n",
              "            '<a target=\"_blank\" href=https://colab.research.google.com/notebooks/data_table.ipynb>data table notebook</a>'\n",
              "            + ' to learn more about interactive tables.';\n",
              "          element.innerHTML = '';\n",
              "          dataTable['output_type'] = 'display_data';\n",
              "          await google.colab.output.renderOutput(dataTable, element);\n",
              "          const docLink = document.createElement('div');\n",
              "          docLink.innerHTML = docLinkHtml;\n",
              "          element.appendChild(docLink);\n",
              "        }\n",
              "      </script>\n",
              "    </div>\n",
              "  </div>\n",
              "  "
            ]
          },
          "metadata": {},
          "execution_count": 30
        }
      ],
      "source": [
        "happy_list =[]\n",
        "angry_list=[]\n",
        "surprise_list=[]\n",
        "sad_list=[]\n",
        "fear_list=[]\n",
        "\n",
        "for i in tweets_df_2021['Text']:\n",
        "    emotion = te.get_emotion(i)\n",
        "    happy_list.append(emotion['Happy'])\n",
        "    angry_list.append(emotion['Angry'])\n",
        "    surprise_list.append(emotion['Surprise'])\n",
        "    sad_list.append(emotion['Sad'])\n",
        "    fear_list.append(emotion['Fear'])\n",
        "\n",
        "    \n",
        "tweets_df_2021['Happy_score'] = happy_list\n",
        "tweets_df_2021['Angry_score'] = angry_list\n",
        "tweets_df_2021['Surprise_score'] = surprise_list\n",
        "tweets_df_2021['Sas_score'] = sad_list\n",
        "tweets_df_2021['Fear_score'] = fear_list\n",
        "tweets_df_2021"
      ],
      "id": "21b0f8ee"
    },
    {
      "cell_type": "code",
      "execution_count": null,
      "metadata": {
        "id": "3f9b9ae3"
      },
      "outputs": [],
      "source": [
        "happy_avg_2021 = tweets_df_2021[\"Happy_score\"].mean()\n",
        "angry_avg_2021 = tweets_df_2021[\"Angry_score\"].mean()\n",
        "surprise_avg_2021 = tweets_df_2021[\"Surprise_score\"].mean()\n",
        "sad_avg_2021 = tweets_df_2021[\"Sas_score\"].mean()\n",
        "fear_avg_2021 = tweets_df_2021[\"Fear_score\"].mean()"
      ],
      "id": "3f9b9ae3"
    },
    {
      "cell_type": "code",
      "execution_count": null,
      "metadata": {
        "id": "ea709be4",
        "colab": {
          "base_uri": "https://localhost:8080/",
          "height": 301
        },
        "outputId": "2a5ea4e8-a59e-4c98-8dc0-072a1a5cd554"
      },
      "outputs": [
        {
          "output_type": "display_data",
          "data": {
            "text/plain": [
              "<Figure size 432x288 with 1 Axes>"
            ],
            "image/png": "[encoded data removed]"
          },
          "metadata": {}
        }
      ],
      "source": [
        "import numpy as np\n",
        "\n",
        "Categories = ['Happy', 'Angry', 'Surprise', 'Sad', 'Fear']\n",
        "values = np.array([happy_avg_2021, angry_avg_2021, surprise_avg_2021, sad_avg_2021, fear_avg_2021])\n",
        "plt.bar(Categories,values)\n",
        "plt.xlabel('Emotions')\n",
        "plt.ylabel(\"Average Values\")\n",
        "plt.title('Emotion averages 2021')\n",
        "plt.show()"
      ],
      "id": "ea709be4"
    },
    {
      "cell_type": "code",
      "execution_count": null,
      "metadata": {
        "id": "1a5d01a4"
      },
      "outputs": [],
      "source": [],
      "id": "1a5d01a4"
    },
    {
      "cell_type": "code",
      "execution_count": null,
      "metadata": {
        "id": "2TbHSJJV5gkK"
      },
      "outputs": [],
      "source": [],
      "id": "2TbHSJJV5gkK"
    },
    {
      "cell_type": "code",
      "execution_count": null,
      "metadata": {
        "id": "hy5fyZRy6S5H"
      },
      "outputs": [],
      "source": [],
      "id": "hy5fyZRy6S5H"
    }
  ],
  "metadata": {
    "colab": {
      "provenance": []
    },
    "kernelspec": {
      "display_name": "Python 3 (ipykernel)",
      "language": "python",
      "name": "python3"
    },
    "language_info": {
      "codemirror_mode": {
        "name": "ipython",
        "version": 3
      },
      "file_extension": ".py",
      "mimetype": "text/x-python",
      "name": "python",
      "nbconvert_exporter": "python",
      "pygments_lexer": "ipython3",
      "version": "3.9.7"
    }
  },
  "nbformat": 4,
  "nbformat_minor": 5
}